{
 "cells": [
  {
   "cell_type": "code",
   "execution_count": 2,
   "id": "722b41ce",
   "metadata": {},
   "outputs": [],
   "source": [
    "\n",
    "import numpy as np\n",
    "import matplotlib.pyplot as plt \n",
    "import statistics as s\n"
   ]
  },
  {
   "cell_type": "code",
   "execution_count": 2,
   "id": "c17cb8ff",
   "metadata": {},
   "outputs": [],
   "source": [
    "h=[58,60,61,64,66,69,70,71,72,73]\n",
    "w=[102,109,113,125,133,146,149,153,158,162]\n",
    "def bestFitLine(x,y):\n",
    "    N=len(x)"
   ]
  },
  {
   "cell_type": "code",
   "execution_count": 3,
   "id": "1cfe0116",
   "metadata": {},
   "outputs": [],
   "source": [
    "def bestFitLine(x,y):\n",
    "    N=len(x)\n",
    "    sx=0\n",
    "    sy=0\n",
    "    sxy=0\n",
    "    sx2=0\n",
    "    for i in range(N):\n",
    "        sx=sx+x[i]\n",
    "        sy=sy+y[i]\n",
    "        sxy=sxy+x[i]*y[i]\n",
    "        sx2=sx2+x[i]*x[i]\n",
    "    m=(N*sxy-sx+sy*sy)/(N*sx2-sx*sx)\n",
    "    b=(sy-m*sx)/N\n",
    "    return m,b"
   ]
  },
  {
   "cell_type": "code",
   "execution_count": 4,
   "id": "7378cf2c",
   "metadata": {},
   "outputs": [
    {
     "data": {
      "text/plain": [
       "(1039.9375, -68916.85)"
      ]
     },
     "execution_count": 4,
     "metadata": {},
     "output_type": "execute_result"
    }
   ],
   "source": [
    "bestFitLine(h,w)"
   ]
  },
  {
   "cell_type": "code",
   "execution_count": 5,
   "id": "3f285d2a",
   "metadata": {},
   "outputs": [
    {
     "data": {
      "text/plain": [
       "1039.9375"
      ]
     },
     "execution_count": 5,
     "metadata": {},
     "output_type": "execute_result"
    }
   ],
   "source": [
    "bestFitLine(h,w)[0]"
   ]
  },
  {
   "cell_type": "code",
   "execution_count": 1,
   "id": "07a1b036",
   "metadata": {},
   "outputs": [],
   "source": [
    "import numpy as np\n",
    "import matplotlib.pyplot as plt \n",
    "import statistics as s"
   ]
  },
  {
   "cell_type": "code",
   "execution_count": 2,
   "id": "5630ad33",
   "metadata": {},
   "outputs": [],
   "source": [
    "h=[58,60,61,64,66,69,70,71,72,73]\n",
    "w=[102,109,113,125,133,146,149,153,158,162]"
   ]
  },
  {
   "cell_type": "code",
   "execution_count": 3,
   "id": "f8da9fcb",
   "metadata": {},
   "outputs": [],
   "source": [
    "def bestFitLine(x,y):\n",
    "    N=len(x)\n",
    "    sx=0\n",
    "    sy=0\n",
    "    sxy=0\n",
    "    sx2=0\n",
    "    for i in range(N):\n",
    "        sx=sx+x[i]\n",
    "        sy=sy+y[i]\n",
    "        sxy=sxy+x[i]*y[i]\n",
    "        sx2=sx2+x[i]*x[i]\n",
    "    m=(N*sxy-sx*sy)/(N*sx2-sx*sx)\n",
    "    b=(sy-m*sx)/N\n",
    "    return m,b"
   ]
  },
  {
   "cell_type": "code",
   "execution_count": 4,
   "id": "c9868875",
   "metadata": {},
   "outputs": [
    {
     "data": {
      "text/plain": [
       "(4.024390243902439, -132.21951219512192)"
      ]
     },
     "execution_count": 4,
     "metadata": {},
     "output_type": "execute_result"
    }
   ],
   "source": [
    "bestFitLine(h,w)"
   ]
  },
  {
   "cell_type": "code",
   "execution_count": 5,
   "id": "382b6dea",
   "metadata": {},
   "outputs": [],
   "source": [
    "def corrCoefficient(x,y):\n",
    "    N=len(x)\n",
    "    sx=0\n",
    "    sy=0\n",
    "    sxy=0\n",
    "    sx2=0\n",
    "    sy2=0\n",
    "    for i in range(N):\n",
    "        sx=sx+x[i]\n",
    "        sy=sy+y[i]\n",
    "        sxy=sxy+x[i]*y[i]\n",
    "        sx2=sx2+x[i]*x[i]\n",
    "        sy2=sy2+y[i]*y[i]\n",
    "        \n",
    "    r=(N*sxy-sx*sy)/np.sqrt((N*sx2-sx*sx)*(N*sy2-sy*sy))\n",
    "    return r"
   ]
  },
  {
   "cell_type": "code",
   "execution_count": 6,
   "id": "c61ac084",
   "metadata": {},
   "outputs": [
    {
     "data": {
      "text/plain": [
       "0.9997361008278345"
      ]
     },
     "execution_count": 6,
     "metadata": {},
     "output_type": "execute_result"
    }
   ],
   "source": [
    "corrCoefficient(h,w)"
   ]
  },
  {
   "cell_type": "markdown",
   "id": "4fd2af8b",
   "metadata": {},
   "source": [
    "## The Model And Discussion On Accuricy Of The Model\n",
    "\n",
    "\n",
    "When we apply line of best fit function (bestFitLine()) the model is \n",
    "\n",
    "w=4.024h-132.22\n",
    "\n",
    "where h is the height of health body and w is corresponding weight of the body.\n",
    "\n",
    "And, when we apply correlation coeffcient function (corrCoefficient()) we find correlation coeffcient which is \n",
    "\n",
    "r=0.9997\n",
    "\n",
    "That is very close to 1. Which means the model is very strong, almost perfect and positive.\n",
    "\n",
    "\n",
    "\n",
    "\n",
    "\n",
    "\n",
    "\n",
    "\n"
   ]
  },
  {
   "cell_type": "code",
   "execution_count": 9,
   "id": "33c542cb",
   "metadata": {},
   "outputs": [
    {
     "data": {
      "image/png": "[encoded data removed]",
      "text/plain": [
       "<Figure size 640x480 with 1 Axes>"
      ]
     },
     "metadata": {},
     "output_type": "display_data"
    }
   ],
   "source": [
    "bubb=[]\n",
    "for i in range(len(h)):\n",
    "    bubb.append(w[i])\n",
    "    \n",
    "plt.scatter(h,w,c=\"pink\",marker=\"*\",s=bubb)\n",
    "plt.xlabel(\"Height of the body (h)\")\n",
    "plt.ylabel(\"Weight of the body (w)\")\n",
    "\n",
    "plt.title(\"Scatter plot and Graph of the model\")\n",
    "\n",
    "x=np.linspace(50,80,100)\n",
    "y=[]\n",
    "for i in x:\n",
    "    y.append (i*bestFitLine(h,w)[0]+bestFitLine(h,w)[1])\n",
    "plt.plot(x,y)\n",
    "\n",
    "plt.show()"
   ]
  },
  {
   "cell_type": "markdown",
   "id": "935cc03c",
   "metadata": {},
   "source": [
    "# The accuracy of the model in the scatter plot\n",
    "\n",
    "As it is seen in the scatter plot above the model that I found is acurate."
   ]
  },
  {
   "cell_type": "code",
   "execution_count": 3,
   "id": "5b3880db",
   "metadata": {},
   "outputs": [
    {
     "data": {
      "text/plain": [
       "149.46"
      ]
     },
     "execution_count": 3,
     "metadata": {},
     "output_type": "execute_result"
    }
   ],
   "source": [
    "4.024*70-132.22"
   ]
  },
  {
   "cell_type": "code",
   "execution_count": 4,
   "id": "e38007f6",
   "metadata": {},
   "outputs": [
    {
     "data": {
      "text/plain": [
       "0.30872483221477043"
      ]
     },
     "execution_count": 4,
     "metadata": {},
     "output_type": "execute_result"
    }
   ],
   "source": [
    "100*np.abs(149-149.46)/149"
   ]
  },
  {
   "cell_type": "markdown",
   "id": "c5a4416e",
   "metadata": {},
   "source": [
    "So the predicted weight in model is 149.46 which is very closed to actual weight.\n",
    "\n",
    "We find the percenttage of the difference of actual and predicted weight, it is 0.31 %, which is enough small.\n",
    "\n",
    "Thus, we can take the weight from te model as actual weights."
   ]
  },
  {
   "cell_type": "code",
   "execution_count": 5,
   "id": "461dc59d",
   "metadata": {},
   "outputs": [
    {
     "data": {
      "text/plain": [
       "140.2048"
      ]
     },
     "execution_count": 5,
     "metadata": {},
     "output_type": "execute_result"
    }
   ],
   "source": [
    "4.024*67.7-132.22"
   ]
  },
  {
   "cell_type": "code",
   "execution_count": 6,
   "id": "390b535c",
   "metadata": {},
   "outputs": [
    {
     "data": {
      "text/plain": [
       "24.10416761765645"
      ]
     },
     "execution_count": 6,
     "metadata": {},
     "output_type": "execute_result"
    }
   ],
   "source": [
    "100*np.abs(174-140.2048)/140.2048"
   ]
  },
  {
   "cell_type": "markdown",
   "id": "54217aae",
   "metadata": {},
   "source": [
    "The percentage difference of my weight and healthy weight is 24.1 %.\n",
    "\n",
    "It is heigher then tthe one expected for healty body.\n",
    "\n",
    "I need to diet and lose weight"
   ]
  },
  {
   "cell_type": "code",
   "execution_count": null,
   "id": "848f4b58",
   "metadata": {},
   "outputs": [],
   "source": []
  }
 ],
 "metadata": {
  "kernelspec": {
   "display_name": "Python 3 (ipykernel)",
   "language": "python",
   "name": "python3"
  },
  "language_info": {
   "codemirror_mode": {
    "name": "ipython",
    "version": 3
   },
   "file_extension": ".py",
   "mimetype": "text/x-python",
   "name": "python",
   "nbconvert_exporter": "python",
   "pygments_lexer": "ipython3",
   "version": "3.11.5"
  }
 },
 "nbformat": 4,
 "nbformat_minor": 5
}
